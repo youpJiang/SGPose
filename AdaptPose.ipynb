{
  "nbformat": 4,
  "nbformat_minor": 0,
  "metadata": {
    "accelerator": "GPU",
    "colab": {
      "name": "AdaptPose.ipynb",
      "provenance": [],
      "collapsed_sections": [],
      "machine_shape": "hm",
      "authorship_tag": "ABX9TyOlyqap6yX3jY+F0YChyyZZ",
      "include_colab_link": true
    },
    "kernelspec": {
      "display_name": "Python 3",
      "name": "python3"
    },
    "language_info": {
      "name": "python"
    }
  },
  "cells": [
    {
      "cell_type": "markdown",
      "metadata": {
        "id": "view-in-github",
        "colab_type": "text"
      },
      "source": [
        "<a href=\"https://colab.research.google.com/github/mgholamikn/AdaptPose/blob/main/AdaptPose.ipynb\" target=\"_parent\"><img src=\"https://colab.research.google.com/assets/colab-badge.svg\" alt=\"Open In Colab\"/></a>"
      ]
    },
    {
      "cell_type": "markdown",
      "metadata": {
        "id": "Xtvy95RHLbrd"
      },
      "source": [
        "# **AdaptPose: Cross-dataset Adaptation of 3D Human Pose Estimation by Learnable Motion Generator**"
      ]
    },
    {
      "cell_type": "markdown",
      "metadata": {
        "id": "6hfK6GfCJ5r4"
      },
      "source": [
        "Here we provide the following experiments: \n",
        "\n",
        "1.   Cross-dataset evaluation on 3DHP: source H3.6M, target: 3DHP\n",
        "2.   Cross-dataset evaluation on 3DPW: source H3.6M, target: 3DPW\n",
        "3.   Cross-dataset trainin on 3DHP: source H3.6M, target: 3DHP\n",
        "4.   Cross-dataset trainin on 3DPW: source H3.6M, target: 3DPW\n"
      ]
    },
    {
      "cell_type": "markdown",
      "metadata": {
        "id": "1SLaOn0PIfmT"
      },
      "source": [
        "# **Install Dependencies**"
      ]
    },
    {
      "cell_type": "code",
      "metadata": {
        "colab": {
          "base_uri": "https://localhost:8080/"
        },
        "id": "WePRpLEMZK-O",
        "outputId": "10a5d497-3fe3-4b21-db75-739552ef07d0"
      },
      "source": [
        "!pip install certifi==2020.12.5\n",
        "!pip install cffi==1.14.0\n",
        "!pip install cycler==0.10.0\n",
        "!pip install kiwisolver==1.3.1\n",
        "!pip install matplotlib==3.1.3\n",
        "!pip install mkl-fft==1.3.0\n",
        "!pip install mkl-random==1.1.1\n",
        "!pip install mkl-service==2.3.0\n",
        "!pip install nbconvert==5.6.1\n",
        "!pip install numpy \n",
        "!pip install olefile==0.46\n",
        "!pip install Pillow \n",
        "!pip install protobuf==3.15.6\n",
        "!pip install pycparser \n",
        "!pip install pyparsing==2.4.7\n",
        "!pip install python-dateutil==2.8.1\n",
        "!pip install scipy==1.4.1\n",
        "!pip install six \n",
        "!pip install tensorboardX==1.6\n",
        "!pip install torch\n",
        "!pip install torchgeometry==0.1.2\n",
        "!pip install torchvision==0.2.2"
      ],
      "execution_count": null,
      "outputs": [
        {
          "output_type": "stream",
          "name": "stdout",
          "text": [
            "Requirement already satisfied: certifi==2020.12.5 in /usr/local/lib/python3.7/dist-packages (2020.12.5)\n",
            "Requirement already satisfied: cffi==1.14.0 in /usr/local/lib/python3.7/dist-packages (1.14.0)\n",
            "Requirement already satisfied: pycparser in /usr/local/lib/python3.7/dist-packages (from cffi==1.14.0) (2.21)\n",
            "Requirement already satisfied: cycler==0.10.0 in /usr/local/lib/python3.7/dist-packages (0.10.0)\n",
            "Requirement already satisfied: six in /usr/local/lib/python3.7/dist-packages (from cycler==0.10.0) (1.15.0)\n",
            "Requirement already satisfied: kiwisolver==1.3.1 in /usr/local/lib/python3.7/dist-packages (1.3.1)\n",
            "Requirement already satisfied: matplotlib==3.1.3 in /usr/local/lib/python3.7/dist-packages (3.1.3)\n",
            "Requirement already satisfied: numpy>=1.11 in /usr/local/lib/python3.7/dist-packages (from matplotlib==3.1.3) (1.19.5)\n",
            "Requirement already satisfied: pyparsing!=2.0.4,!=2.1.2,!=2.1.6,>=2.0.1 in /usr/local/lib/python3.7/dist-packages (from matplotlib==3.1.3) (2.4.7)\n",
            "Requirement already satisfied: python-dateutil>=2.1 in /usr/local/lib/python3.7/dist-packages (from matplotlib==3.1.3) (2.8.1)\n",
            "Requirement already satisfied: cycler>=0.10 in /usr/local/lib/python3.7/dist-packages (from matplotlib==3.1.3) (0.10.0)\n",
            "Requirement already satisfied: kiwisolver>=1.0.1 in /usr/local/lib/python3.7/dist-packages (from matplotlib==3.1.3) (1.3.1)\n",
            "Requirement already satisfied: six in /usr/local/lib/python3.7/dist-packages (from cycler>=0.10->matplotlib==3.1.3) (1.15.0)\n",
            "Requirement already satisfied: mkl-fft==1.3.0 in /usr/local/lib/python3.7/dist-packages (1.3.0)\n",
            "Requirement already satisfied: numpy>=1.16 in /usr/local/lib/python3.7/dist-packages (from mkl-fft==1.3.0) (1.19.5)\n",
            "Requirement already satisfied: mkl in /usr/local/lib/python3.7/dist-packages (from mkl-fft==1.3.0) (2019.0)\n",
            "Requirement already satisfied: dpcpp_cpp_rt in /usr/local/lib/python3.7/dist-packages (from mkl-fft==1.3.0) (2021.4.0)\n",
            "Requirement already satisfied: intel-opencl-rt==2021.4.0 in /usr/local/lib/python3.7/dist-packages (from dpcpp_cpp_rt->mkl-fft==1.3.0) (2021.4.0)\n",
            "Requirement already satisfied: intel-cmplr-lib-rt==2021.4.0 in /usr/local/lib/python3.7/dist-packages (from dpcpp_cpp_rt->mkl-fft==1.3.0) (2021.4.0)\n",
            "Requirement already satisfied: intel-openmp==2021.4.0 in /usr/local/lib/python3.7/dist-packages (from dpcpp_cpp_rt->mkl-fft==1.3.0) (2021.4.0)\n",
            "Requirement already satisfied: intel-cmplr-lic-rt==2021.4.0 in /usr/local/lib/python3.7/dist-packages (from dpcpp_cpp_rt->mkl-fft==1.3.0) (2021.4.0)\n",
            "Requirement already satisfied: tbb==2021.* in /usr/local/lib/python3.7/dist-packages (from intel-opencl-rt==2021.4.0->dpcpp_cpp_rt->mkl-fft==1.3.0) (2021.4.0)\n",
            "\u001b[31mERROR: Could not find a version that satisfies the requirement mkl-random==1.1.1 (from versions: 1.2.0, 1.2.1, 1.2.2)\u001b[0m\n",
            "\u001b[31mERROR: No matching distribution found for mkl-random==1.1.1\u001b[0m\n",
            "Requirement already satisfied: mkl-service==2.3.0 in /usr/local/lib/python3.7/dist-packages (2.3.0)\n",
            "Requirement already satisfied: mkl in /usr/local/lib/python3.7/dist-packages (from mkl-service==2.3.0) (2019.0)\n",
            "Requirement already satisfied: six in /usr/local/lib/python3.7/dist-packages (from mkl-service==2.3.0) (1.15.0)\n",
            "Requirement already satisfied: intel-openmp in /usr/local/lib/python3.7/dist-packages (from mkl->mkl-service==2.3.0) (2021.4.0)\n",
            "Requirement already satisfied: nbconvert==5.6.1 in /usr/local/lib/python3.7/dist-packages (5.6.1)\n",
            "Requirement already satisfied: entrypoints>=0.2.2 in /usr/local/lib/python3.7/dist-packages (from nbconvert==5.6.1) (0.3)\n",
            "Requirement already satisfied: pygments in /usr/local/lib/python3.7/dist-packages (from nbconvert==5.6.1) (2.6.1)\n",
            "Requirement already satisfied: mistune<2,>=0.8.1 in /usr/local/lib/python3.7/dist-packages (from nbconvert==5.6.1) (0.8.4)\n",
            "Requirement already satisfied: bleach in /usr/local/lib/python3.7/dist-packages (from nbconvert==5.6.1) (4.1.0)\n",
            "Requirement already satisfied: jinja2>=2.4 in /usr/local/lib/python3.7/dist-packages (from nbconvert==5.6.1) (2.11.3)\n",
            "Requirement already satisfied: pandocfilters>=1.4.1 in /usr/local/lib/python3.7/dist-packages (from nbconvert==5.6.1) (1.5.0)\n",
            "Requirement already satisfied: testpath in /usr/local/lib/python3.7/dist-packages (from nbconvert==5.6.1) (0.5.0)\n",
            "Requirement already satisfied: traitlets>=4.2 in /usr/local/lib/python3.7/dist-packages (from nbconvert==5.6.1) (5.1.1)\n",
            "Requirement already satisfied: nbformat>=4.4 in /usr/local/lib/python3.7/dist-packages (from nbconvert==5.6.1) (5.1.3)\n",
            "Requirement already satisfied: defusedxml in /usr/local/lib/python3.7/dist-packages (from nbconvert==5.6.1) (0.7.1)\n",
            "Requirement already satisfied: jupyter-core in /usr/local/lib/python3.7/dist-packages (from nbconvert==5.6.1) (4.9.1)\n",
            "Requirement already satisfied: MarkupSafe>=0.23 in /usr/local/lib/python3.7/dist-packages (from jinja2>=2.4->nbconvert==5.6.1) (2.0.1)\n",
            "Requirement already satisfied: ipython-genutils in /usr/local/lib/python3.7/dist-packages (from nbformat>=4.4->nbconvert==5.6.1) (0.2.0)\n",
            "Requirement already satisfied: jsonschema!=2.5.0,>=2.4 in /usr/local/lib/python3.7/dist-packages (from nbformat>=4.4->nbconvert==5.6.1) (2.6.0)\n",
            "Requirement already satisfied: webencodings in /usr/local/lib/python3.7/dist-packages (from bleach->nbconvert==5.6.1) (0.5.1)\n",
            "Requirement already satisfied: packaging in /usr/local/lib/python3.7/dist-packages (from bleach->nbconvert==5.6.1) (21.3)\n",
            "Requirement already satisfied: six>=1.9.0 in /usr/local/lib/python3.7/dist-packages (from bleach->nbconvert==5.6.1) (1.15.0)\n",
            "Requirement already satisfied: pyparsing!=3.0.5,>=2.0.2 in /usr/local/lib/python3.7/dist-packages (from packaging->bleach->nbconvert==5.6.1) (2.4.7)\n",
            "Requirement already satisfied: numpy in /usr/local/lib/python3.7/dist-packages (1.19.5)\n",
            "Requirement already satisfied: olefile==0.46 in /usr/local/lib/python3.7/dist-packages (0.46)\n",
            "Requirement already satisfied: Pillow in /usr/local/lib/python3.7/dist-packages (7.1.2)\n",
            "Requirement already satisfied: protobuf==3.15.6 in /usr/local/lib/python3.7/dist-packages (3.15.6)\n",
            "Requirement already satisfied: six>=1.9 in /usr/local/lib/python3.7/dist-packages (from protobuf==3.15.6) (1.15.0)\n",
            "Requirement already satisfied: pycparser in /usr/local/lib/python3.7/dist-packages (2.21)\n",
            "Requirement already satisfied: pyparsing==2.4.7 in /usr/local/lib/python3.7/dist-packages (2.4.7)\n",
            "Requirement already satisfied: python-dateutil==2.8.1 in /usr/local/lib/python3.7/dist-packages (2.8.1)\n",
            "Requirement already satisfied: six>=1.5 in /usr/local/lib/python3.7/dist-packages (from python-dateutil==2.8.1) (1.15.0)\n",
            "Requirement already satisfied: scipy==1.4.1 in /usr/local/lib/python3.7/dist-packages (1.4.1)\n",
            "Requirement already satisfied: numpy>=1.13.3 in /usr/local/lib/python3.7/dist-packages (from scipy==1.4.1) (1.19.5)\n",
            "Requirement already satisfied: six in /usr/local/lib/python3.7/dist-packages (1.15.0)\n",
            "Requirement already satisfied: tensorboardX==1.6 in /usr/local/lib/python3.7/dist-packages (1.6)\n",
            "Requirement already satisfied: protobuf>=3.2.0 in /usr/local/lib/python3.7/dist-packages (from tensorboardX==1.6) (3.15.6)\n",
            "Requirement already satisfied: numpy in /usr/local/lib/python3.7/dist-packages (from tensorboardX==1.6) (1.19.5)\n",
            "Requirement already satisfied: six in /usr/local/lib/python3.7/dist-packages (from tensorboardX==1.6) (1.15.0)\n",
            "Requirement already satisfied: torch in /usr/local/lib/python3.7/dist-packages (1.10.0)\n",
            "Requirement already satisfied: typing-extensions in /usr/local/lib/python3.7/dist-packages (from torch) (3.10.0.2)\n",
            "Requirement already satisfied: torchgeometry==0.1.2 in /usr/local/lib/python3.7/dist-packages (0.1.2)\n",
            "Requirement already satisfied: torch>=1.0.0 in /usr/local/lib/python3.7/dist-packages (from torchgeometry==0.1.2) (1.10.0)\n",
            "Requirement already satisfied: typing-extensions in /usr/local/lib/python3.7/dist-packages (from torch>=1.0.0->torchgeometry==0.1.2) (3.10.0.2)\n",
            "Collecting torchvision==0.2.2\n",
            "  Using cached torchvision-0.2.2-py2.py3-none-any.whl (64 kB)\n",
            "Requirement already satisfied: numpy in /usr/local/lib/python3.7/dist-packages (from torchvision==0.2.2) (1.19.5)\n",
            "Requirement already satisfied: pillow>=4.1.1 in /usr/local/lib/python3.7/dist-packages (from torchvision==0.2.2) (7.1.2)\n",
            "Requirement already satisfied: tqdm==4.19.9 in /usr/local/lib/python3.7/dist-packages (from torchvision==0.2.2) (4.19.9)\n",
            "Requirement already satisfied: torch in /usr/local/lib/python3.7/dist-packages (from torchvision==0.2.2) (1.10.0)\n",
            "Requirement already satisfied: six in /usr/local/lib/python3.7/dist-packages (from torchvision==0.2.2) (1.15.0)\n",
            "Requirement already satisfied: typing-extensions in /usr/local/lib/python3.7/dist-packages (from torch->torchvision==0.2.2) (3.10.0.2)\n",
            "Installing collected packages: torchvision\n",
            "  Attempting uninstall: torchvision\n",
            "    Found existing installation: torchvision 0.11.1\n",
            "    Uninstalling torchvision-0.11.1:\n",
            "      Successfully uninstalled torchvision-0.11.1\n",
            "\u001b[31mERROR: pip's dependency resolver does not currently take into account all the packages that are installed. This behaviour is the source of the following dependency conflicts.\n",
            "pytorch3d 0.3.0 requires torchvision>=0.4, but you have torchvision 0.2.2 which is incompatible.\u001b[0m\n",
            "Successfully installed torchvision-0.2.2\n"
          ]
        }
      ]
    },
    {
      "cell_type": "code",
      "metadata": {
        "colab": {
          "base_uri": "https://localhost:8080/",
          "height": 1000
        },
        "id": "SGJ-DPf5SrJG",
        "outputId": "fa53dc6f-34b6-4e02-ab5a-fb462a2ddae5"
      },
      "source": [
        "import sys\n",
        "import torch\n",
        "version_str=\"\".join([\n",
        "    f\"py3{sys.version_info.minor}_cu\",\n",
        "    torch.version.cuda.replace(\".\",\"\"),\n",
        "    f\"_pyt{torch.__version__[0:5:2]}\"\n",
        "])\n",
        "!pip install pytorch3d -f https://dl.fbaipublicfiles.com/pytorch3d/packaging/wheels/{version_str}/download.html"
      ],
      "execution_count": null,
      "outputs": [
        {
          "output_type": "stream",
          "name": "stdout",
          "text": [
            "Looking in links: https://dl.fbaipublicfiles.com/pytorch3d/packaging/wheels/py37_cu90176_pyt101/download.html\n",
            "Collecting pytorch3d\n",
            "  Downloading pytorch3d-0.3.0-cp37-cp37m-manylinux1_x86_64.whl (30.0 MB)\n",
            "\u001b[K     |████████████████████████████████| 30.0 MB 1.6 MB/s \n",
            "\u001b[?25hCollecting fvcore\n",
            "  Downloading fvcore-0.1.5.post20211023.tar.gz (49 kB)\n",
            "\u001b[K     |████████████████████████████████| 49 kB 5.7 MB/s \n",
            "\u001b[?25hCollecting torchvision>=0.4\n",
            "  Downloading torchvision-0.11.1-cp37-cp37m-manylinux1_x86_64.whl (23.3 MB)\n",
            "\u001b[K     |████████████████████████████████| 23.3 MB 1.3 MB/s \n",
            "\u001b[?25hRequirement already satisfied: pillow!=8.3.0,>=5.3.0 in /usr/local/lib/python3.7/dist-packages (from torchvision>=0.4->pytorch3d) (7.1.2)\n",
            "Collecting torch==1.10.0\n",
            "  Downloading torch-1.10.0-cp37-cp37m-manylinux1_x86_64.whl (881.9 MB)\n",
            "\u001b[K     |██████████████████████████████▎ | 834.1 MB 1.2 MB/s eta 0:00:39tcmalloc: large alloc 1147494400 bytes == 0x559919e64000 @  0x7f03e4ecb615 0x5598e15104cc 0x5598e15f047a 0x5598e15132ed 0x5598e1604e1d 0x5598e1586e99 0x5598e15819ee 0x5598e1514bda 0x5598e1586d00 0x5598e15819ee 0x5598e1514bda 0x5598e1583737 0x5598e1605c66 0x5598e1582daf 0x5598e1605c66 0x5598e1582daf 0x5598e1605c66 0x5598e1582daf 0x5598e1515039 0x5598e1558409 0x5598e1513c52 0x5598e1586c25 0x5598e15819ee 0x5598e1514bda 0x5598e1583737 0x5598e15819ee 0x5598e1514bda 0x5598e1582915 0x5598e1514afa 0x5598e1582c0d 0x5598e15819ee\n",
            "\u001b[K     |████████████████████████████████| 881.9 MB 18 kB/s \n",
            "\u001b[?25hRequirement already satisfied: numpy in /usr/local/lib/python3.7/dist-packages (from torchvision>=0.4->pytorch3d) (1.19.5)\n",
            "Requirement already satisfied: typing-extensions in /usr/local/lib/python3.7/dist-packages (from torch==1.10.0->torchvision>=0.4->pytorch3d) (3.10.0.2)\n",
            "Collecting yacs>=0.1.6\n",
            "  Downloading yacs-0.1.8-py3-none-any.whl (14 kB)\n",
            "Collecting pyyaml>=5.1\n",
            "  Downloading PyYAML-6.0-cp37-cp37m-manylinux_2_5_x86_64.manylinux1_x86_64.manylinux_2_12_x86_64.manylinux2010_x86_64.whl (596 kB)\n",
            "\u001b[K     |████████████████████████████████| 596 kB 57.5 MB/s \n",
            "\u001b[?25hRequirement already satisfied: tqdm in /usr/local/lib/python3.7/dist-packages (from fvcore->pytorch3d) (4.19.9)\n",
            "Requirement already satisfied: termcolor>=1.1 in /usr/local/lib/python3.7/dist-packages (from fvcore->pytorch3d) (1.1.0)\n",
            "Requirement already satisfied: tabulate in /usr/local/lib/python3.7/dist-packages (from fvcore->pytorch3d) (0.8.9)\n",
            "Collecting iopath>=0.1.7\n",
            "  Downloading iopath-0.1.9-py3-none-any.whl (27 kB)\n",
            "Collecting portalocker\n",
            "  Downloading portalocker-2.3.2-py2.py3-none-any.whl (15 kB)\n",
            "Building wheels for collected packages: fvcore\n",
            "  Building wheel for fvcore (setup.py) ... \u001b[?25l\u001b[?25hdone\n",
            "  Created wheel for fvcore: filename=fvcore-0.1.5.post20211023-py3-none-any.whl size=60947 sha256=2464ac06788869b070c797c01241f2844d1e12d14259b7c38091bdecc6dacacf\n",
            "  Stored in directory: /root/.cache/pip/wheels/16/98/fc/252d62cab6263c719120e06b28f3378af59b52ce7a20e81852\n",
            "Successfully built fvcore\n",
            "Installing collected packages: pyyaml, portalocker, yacs, torch, iopath, torchvision, fvcore, pytorch3d\n",
            "  Attempting uninstall: pyyaml\n",
            "    Found existing installation: PyYAML 3.13\n",
            "    Uninstalling PyYAML-3.13:\n",
            "      Successfully uninstalled PyYAML-3.13\n",
            "  Attempting uninstall: torch\n",
            "    Found existing installation: torch 1.0.1.post2\n",
            "    Uninstalling torch-1.0.1.post2:\n",
            "      Successfully uninstalled torch-1.0.1.post2\n",
            "  Attempting uninstall: torchvision\n",
            "    Found existing installation: torchvision 0.2.2\n",
            "    Uninstalling torchvision-0.2.2:\n",
            "      Successfully uninstalled torchvision-0.2.2\n",
            "Successfully installed fvcore-0.1.5.post20211023 iopath-0.1.9 portalocker-2.3.2 pytorch3d-0.3.0 pyyaml-6.0 torch-1.10.0 torchvision-0.11.1 yacs-0.1.8\n"
          ]
        },
        {
          "output_type": "display_data",
          "data": {
            "application/vnd.colab-display-data+json": {
              "pip_warning": {
                "packages": [
                  "torch"
                ]
              }
            }
          },
          "metadata": {}
        }
      ]
    },
    {
      "cell_type": "markdown",
      "metadata": {
        "id": "-hFL4HUhV2tI"
      },
      "source": [
        "# **Download dataset and Pretraine Models**"
      ]
    },
    {
      "cell_type": "code",
      "metadata": {
        "id": "_1SEly7kV27E"
      },
      "source": [
        "#%cd /TO/AdaptPose/ \n",
        "!ls\n",
        "%cd data\n",
        "## download data\n",
        "!gdown --id 1_cJ2vG5wxRQUtWavz47XAwaMvU9pQB_X\n",
        "!gdown --id 1NX9dT1nKX-8t_eZR3vnfrdyOegG7pDBs\n",
        "!gdown --id 1v3-LDnjlHT8OJi40E7OKDBGY7dWM9P2n\n",
        "!gdown --id 12voJG5DBFy_2xT3lNdLYA4ZCTYjs7Iyv\n",
        "!gdown --id 1Y96GlQOEkc2Gx6V4FpvTwCyJjrUX3FYu\n",
        "!gdown --id 1vL53iJ1mWao3TKK3p52ZX_jdF5d5EBtl\n",
        "!gdown --id 1EbVV-nzrrQ2KdT_GG4JPwv1A7EOnFka1\n",
        "## download pretrained models\n",
        "%cd ..\n",
        "%cd checkpoint/adaptpose/videopose/gt/3dhp/\n",
        "!gdown --id 11QJf-B5D1_aqsMR3v-9rrfht4W7ErC4k\n",
        "%cd ../../../../..\n",
        "%cd checkpoint/adaptpose/videopose/gt/3dpw/\n",
        "!gdown --id 1LUi1OQ7vWQ5KXJ9HlSvtveiOEacG1WoS\n",
        "%cd ../../../../..\n",
        "%cd checkpoint/adaptpose/videopose/gt/skii/\n",
        "!gdown --id 1b1_A7SuBdGaPNXzsx2qLOg0_RqIuk6Cx\n",
        "%cd ../../../../..\n",
        "%cd checkpoint/pretrain_baseline/videopose/gt/3dhp/\n",
        "!gdown --id 1SmSXrk_LcpsXBpBEsSp0zq9qIpb4aJBU\n",
        "%cd ../../../../.."
      ],
      "execution_count": null,
      "outputs": []
    },
    {
      "cell_type": "markdown",
      "metadata": {
        "id": "M_gEjI73LAES"
      },
      "source": [
        "# **Experiments:**"
      ]
    },
    {
      "cell_type": "markdown",
      "metadata": {
        "id": "TIoGNrmTbr5G"
      },
      "source": [
        "**1. Cross-dataset Evaluation of Pretrained Model on 3DHP dataset**\n",
        "\n",
        "\n"
      ]
    },
    {
      "cell_type": "code",
      "metadata": {
        "colab": {
          "base_uri": "https://localhost:8080/"
        },
        "id": "rWHxp3hWcMfH",
        "outputId": "a0a14ce3-9cfc-4512-9065-35aec3f42efe"
      },
      "source": [
        "!python3  run_evaluate.py --posenet_name 'videopose' --keypoints gt --evaluate  'checkpoint/adaptpose/videopose/gt/3dhp/ckpt_best_dhp_p1.pth.tar' --dataset_target 3dhp --keypoints_target 'gt' --pad 13  --pretrain_path  'checkpoint/pretrain_baseline/videopose/gt/3dhp/ckpt_best.pth.tar'"
      ],
      "execution_count": null,
      "outputs": [
        {
          "output_type": "stream",
          "name": "stdout",
          "text": [
            "==> Using settings Namespace(actions='*', ba_range_m=0.205, ba_range_w=0.165, batch_size=1024, blr_limit=0.1, blr_tanhlimit=0.2, checkpoint='checkpoint/debug', dataset='h36m', dataset_target='3dhp', decay_epoch=0, df=2, downsample=1, dropout=0.25, epochs=50, evaluate='checkpoint/adaptpose/videopose/gt/3dhp/ckpt_best_dhp_p1.pth.tar', gloss_factorblr=1, gloss_factord2d=1, gloss_factord2d_temp=1, gloss_factord3d=6, gloss_factordiff=3, gloss_factordiv_ba=0.0, gloss_factordiv_rt=0.0, gloss_factorfeedback=0.001, gloss_factorfeedback_ba=0.1, gloss_factorfeedback_rt=0.01, hardratio_ba=5, hardratio_ba_s=3, hardratio_rt=17, hardratio_rt_s=17, hardratio_std_ba=2, hardratio_std_rt=15, keypoints='gt', keypoints_target='gt', lr_d=0.0001, lr_g=0.0001, lr_p=0.0001, max_norm=True, note='debug', num_workers=2, pad=13, posenet_name='videopose', pretrain=False, pretrain_path='checkpoint/pretrain_baseline/videopose/gt/3dhp/ckpt_best.pth.tar', random_seed=0, resume='', s1only=False, snapshot=2, stages=4, warmup=2)\n",
            "==> Loading dataset...\n",
            "==> Loading 3D data...\n",
            "==> Loading 2D detections...\n",
            "Generating 1559752 poses...\n",
            "Generating 543344 poses...\n",
            "target_shape (1666994, 16, 2)\n",
            "Generating 1666994 poses...\n",
            "Generating 1559752 poses...\n",
            "Generating 1842302 poses...\n",
            "TS1\n",
            "TS2\n",
            "TS3\n",
            "TS4\n",
            "TS5\n",
            "TS6\n",
            "test_shape (24688, 16, 3)\n",
            "Generating 24688 poses...\n",
            "==> Creating model...\n",
            "create model: videopose\n",
            "==> Total parameters for model videopose: 8.54M\n",
            "==> Loading checkpoint 'checkpoint/adaptpose/videopose/gt/3dhp/ckpt_best_dhp_p1.pth.tar'\n",
            "==> Evaluating...\n",
            "\u001b[KEval posenet on  |################################| (25/25) Data: 0.012243s | Batch: 0.128s | Total: 0:00:03 | ETA: 0:00:01 | MPJPE:  77.0837 | P-MPJPE:  52.8459 | N-MPJPE:  71.3460\n",
            "3DHP: Protocol #1   (MPJPE) overall average: 77.08 (mm)\n",
            "3DHP: Protocol #2 (P-MPJPE) overall average: 52.85 (mm)\n",
            "\u001b[?25h"
          ]
        }
      ]
    },
    {
      "cell_type": "markdown",
      "metadata": {
        "id": "pD7B0vxNcUd9"
      },
      "source": [
        "**2. Cross-dataset Evaluation of Pretrained Model on 3DPW dataset**"
      ]
    },
    {
      "cell_type": "code",
      "metadata": {
        "id": "RfxWubT6cY5Y",
        "colab": {
          "base_uri": "https://localhost:8080/"
        },
        "outputId": "2ae3f1a6-4b3d-4b6e-9225-c1c91120dd3e"
      },
      "source": [
        "!python3  run_evaluate.py --posenet_name 'videopose' --keypoints gt --evaluate  'checkpoint/adaptpose/videopose/gt/3dpw/ckpt_best_dhp_p1.pth.tar' --dataset_target 3dpw --keypoints_target 'gt' --pad 13  --pretrain_path  'checkpoint/pretrain_baseline/videopose/gt/3dpw/ckpt_best.pth.tar'"
      ],
      "execution_count": null,
      "outputs": [
        {
          "output_type": "stream",
          "name": "stdout",
          "text": [
            "==> Using settings Namespace(actions='*', ba_range_m=0.205, ba_range_w=0.165, batch_size=1024, blr_limit=0.1, blr_tanhlimit=0.2, checkpoint='checkpoint/debug', dataset='h36m', dataset_target='3dpw', decay_epoch=0, df=2, downsample=1, dropout=0.25, epochs=50, evaluate='checkpoint/adaptpose/videopose/gt/3dpw/ckpt_best_dhp_p1.pth.tar', gloss_factorblr=1, gloss_factord2d=1, gloss_factord2d_temp=1, gloss_factord3d=6, gloss_factordiff=3, gloss_factordiv_ba=0.0, gloss_factordiv_rt=0.0, gloss_factorfeedback=0.001, gloss_factorfeedback_ba=0.1, gloss_factorfeedback_rt=0.01, hardratio_ba=5, hardratio_ba_s=3, hardratio_rt=17, hardratio_rt_s=17, hardratio_std_ba=2, hardratio_std_rt=15, keypoints='gt', keypoints_target='gt', lr_d=0.0001, lr_g=0.0001, lr_p=0.0001, max_norm=True, note='debug', num_workers=2, pad=13, posenet_name='videopose', pretrain=False, pretrain_path='checkpoint/pretrain_baseline/videopose/gt/3dpw/ckpt_best.pth.tar', random_seed=0, resume='', s1only=False, snapshot=2, stages=4, warmup=2)\n",
            "==> Loading dataset...\n",
            "==> Loading 3D data...\n",
            "==> Loading 2D detections...\n",
            "Generating 1559752 poses...\n",
            "Generating 543344 poses...\n",
            "3dpw_shape (1643300, 16, 3)\n",
            "target_shape (1643300, 16, 2)\n",
            "Generating 1643300 poses...\n",
            "Generating 1559752 poses...\n",
            "Generating 1643300 poses...\n",
            "test_shape (37154, 16, 2)\n",
            "Generating 37154 poses...\n",
            "==> Creating model...\n",
            "create model: videopose\n",
            "==> Total parameters for model videopose: 8.54M\n",
            "==> Loading checkpoint 'checkpoint/adaptpose/videopose/gt/3dpw/ckpt_best_dhp_p1.pth.tar'\n",
            "==> Evaluating...\n",
            "\u001b[KEval posenet on  |################################| (37/37) Data: 0.010015s | Batch: 0.118s | Total: 0:00:04 | ETA: 0:00:01 | MPJPE:  87.8131 | P-MPJPE:  46.5449 | N-MPJPE:  73.0387\n",
            "3DHP: Protocol #1   (MPJPE) overall average: 87.81 (mm)\n",
            "3DHP: Protocol #2 (P-MPJPE) overall average: 46.54 (mm)\n",
            "\u001b[?25h"
          ]
        }
      ]
    },
    {
      "cell_type": "markdown",
      "metadata": {
        "id": "gE8hENgkWhvt"
      },
      "source": [
        "**3. Cross-dataset Training for 3DHP**"
      ]
    },
    {
      "cell_type": "code",
      "metadata": {
        "id": "Cb3ckdkanDJ1"
      },
      "source": [
        "!python3 run_adaptpose.py --note poseaug --posenet_name 'videopose' --lr_p 1e-4 --checkpoint './checkpoint/adaptpose' --keypoints gt --keypoints_target gt --dataset_target '3dhp'  --pretrain_path './checkpoint/pretrain_baseline/videopose/gt/3dhp/ckpt_best.pth.tar'  --pad 13 "
      ],
      "execution_count": null,
      "outputs": []
    },
    {
      "cell_type": "markdown",
      "metadata": {
        "id": "RAGIz3qbJRqb"
      },
      "source": [
        "**2.Cross-dataset Evaluation for 3DPW**"
      ]
    },
    {
      "cell_type": "code",
      "metadata": {
        "id": "kMK7xXrUJv_I"
      },
      "source": [
        "!python3 run_adaptpose.py --note poseaug --posenet_name 'videopose' --lr_p 1e-4 --checkpoint './checkpoint/adaptpose' --keypoints gt --keypoints_target gt --dataset_target '3dpw'  --pretrain_path './checkpoint/pretrain_baseline/videopose/gt/3dhp/ckpt_best.pth.tar'  --pad 13 "
      ],
      "execution_count": null,
      "outputs": []
    }
  ]
}